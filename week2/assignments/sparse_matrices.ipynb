{
 "cells": [
  {
   "cell_type": "markdown",
   "id": "aea03da3",
   "metadata": {},
   "source": [
    "In this assignement, feel free to use the `sparse` module from `scipy`."
   ]
  },
  {
   "cell_type": "markdown",
   "id": "2df42bcc",
   "metadata": {},
   "source": [
    "Use the cell below for your imports."
   ]
  },
  {
   "cell_type": "code",
   "execution_count": null,
   "id": "e9644e55",
   "metadata": {},
   "outputs": [],
   "source": []
  },
  {
   "cell_type": "markdown",
   "id": "8948a816",
   "metadata": {},
   "source": [
    "implement the function `mat_mul_coo` that takes two sparse matrices in `coo` and returns their product."
   ]
  },
  {
   "cell_type": "code",
   "execution_count": null,
   "id": "6047ee0e",
   "metadata": {},
   "outputs": [],
   "source": []
  },
  {
   "cell_type": "markdown",
   "id": "4a626dec",
   "metadata": {},
   "source": [
    "implement the function `mat_mul_csr` that takes two sparse matrices in `csr` format and returns their product."
   ]
  },
  {
   "cell_type": "code",
   "execution_count": null,
   "id": "c2e56fbd",
   "metadata": {},
   "outputs": [],
   "source": []
  },
  {
   "cell_type": "markdown",
   "id": "9592a90b",
   "metadata": {},
   "source": [
    "implement a function `solve_lin_sys` that takes a matrix `A` in `csr` format and a vector `b` as a numpy array and solves the system `Ax = b`."
   ]
  },
  {
   "cell_type": "code",
   "execution_count": null,
   "id": "00edeb4c",
   "metadata": {},
   "outputs": [],
   "source": []
  }
 ],
 "metadata": {
  "kernelspec": {
   "display_name": "Python 3 (ipykernel)",
   "language": "python",
   "name": "python3"
  },
  "language_info": {
   "codemirror_mode": {
    "name": "ipython",
    "version": 3
   },
   "file_extension": ".py",
   "mimetype": "text/x-python",
   "name": "python",
   "nbconvert_exporter": "python",
   "pygments_lexer": "ipython3",
   "version": "3.10.6"
  }
 },
 "nbformat": 4,
 "nbformat_minor": 5
}
