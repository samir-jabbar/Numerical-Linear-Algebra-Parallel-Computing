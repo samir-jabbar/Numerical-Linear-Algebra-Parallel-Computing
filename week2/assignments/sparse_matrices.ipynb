{
 "cells": [
  {
   "cell_type": "markdown",
   "id": "aea03da3",
   "metadata": {},
   "source": [
    "In this assignement, feel free to use the `sparse` module from `scipy`."
   ]
  },
  {
   "cell_type": "markdown",
   "id": "2df42bcc",
   "metadata": {},
   "source": [
    "Use the cell below for your imports."
   ]
  },
  {
   "cell_type": "code",
   "execution_count": 42,
   "id": "e9644e55",
   "metadata": {},
   "outputs": [],
   "source": [
    "import numpy as np\n",
    "from scipy.sparse import coo_matrix\n",
    "from scipy.sparse import csr_matrix"
   ]
  },
  {
   "cell_type": "markdown",
   "id": "8948a816",
   "metadata": {},
   "source": [
    "implement the function `mat_mul_coo` that takes two sparse matrices in `coo` and returns their product."
   ]
  },
  {
   "cell_type": "code",
   "execution_count": 43,
   "id": "6047ee0e",
   "metadata": {},
   "outputs": [],
   "source": [
    "import numpy as np\n",
    "from scipy.sparse import coo_matrix\n",
    "\n",
    "def mat_mul_coo(matrix1, matrix2):\n",
    "    #Dimensions compatiblity\n",
    "    if matrix1.shape[1] != matrix2.shape[0]:\n",
    "        raise ValueError(\"Different shapes\")\n",
    "    \n",
    "    # Convert the matrices to dictionaries for easier manipulation\n",
    "    mat1dict = {(matrix1.row[i],matrix1.col[i]): matrix1.data[i] for i in range(len(matrix1.data))}\n",
    "    mat2dict = {(matrix2.row[i],matrix2.col[i]): matrix2.data[i] for i in range(len(matrix2.data))}\n",
    "    \n",
    "    # The product of the two matrices which will be stored in mat3dict\n",
    "    mat3dict = {}\n",
    "    for key1, val1 in mat1dict.items():\n",
    "        for key2, val2 in mat2dict.items():\n",
    "            if key1[1] == key2[0]:\n",
    "                if (key1[0],key2[1]) in mat3dict:\n",
    "                    mat3dict[(key1[0],key2[1])] += val1*val2\n",
    "                else:\n",
    "                    mat3dict[(key1[0],key2[1])] = val1*val2\n",
    "    \n",
    "    # Convert the resulting dictionary to COO format\n",
    "    row = []\n",
    "    col = []\n",
    "    data = []\n",
    "    for key, val in mat3dict.items():\n",
    "        row.append(key[0])\n",
    "        col.append(key[1])\n",
    "        data.append(val)\n",
    "    return coo_matrix((data, (row,col)))"
   ]
  },
  {
   "cell_type": "markdown",
   "id": "101b4c94",
   "metadata": {},
   "source": [
    "Testing the function"
   ]
  },
  {
   "cell_type": "code",
   "execution_count": 44,
   "id": "abf6a792",
   "metadata": {},
   "outputs": [],
   "source": [
    "a = [[1,2,0],[0,0,3],[1,0,4]]\n",
    "b = [[0,0,7],[0,0,0],[3,0,2]]\n",
    "A = coo_matrix(a)\n",
    "B = coo_matrix(b)"
   ]
  },
  {
   "cell_type": "code",
   "execution_count": 45,
   "id": "9f636194",
   "metadata": {},
   "outputs": [
    {
     "name": "stdout",
     "output_type": "stream",
     "text": [
      "[[ 0  0  7]\n",
      " [ 9  0  6]\n",
      " [12  0 15]]\n"
     ]
    }
   ],
   "source": [
    "print(mat_mul_coo(A, B).toarray())\n"
   ]
  },
  {
   "cell_type": "markdown",
   "id": "4a626dec",
   "metadata": {},
   "source": [
    "implement the function `mat_mul_csr` that takes two sparse matrices in `csr` format and returns their product."
   ]
  },
  {
   "cell_type": "code",
   "execution_count": 39,
   "id": "c2e56fbd",
   "metadata": {},
   "outputs": [],
   "source": [
    "def mat_mul_csr(A, B):\n",
    "    #Dimensions compatiblity\n",
    "    if A.shape[1] != B.shape[0]:\n",
    "        raise ValueError(\"Different shapes\")\n",
    "\n",
    "    # C matrix which will be the resulting matrix\n",
    "    C_data = []\n",
    "    C_indices = []\n",
    "    C_indptr = [0]\n",
    "\n",
    "    # The row pointers for matrix A\n",
    "    A_ptrs = {}\n",
    "    for i in range(A.shape[0]):\n",
    "        A_ptrs[i] = set(A.indices[A.indptr[i]:A.indptr[i+1]])\n",
    "\n",
    "    # The column indices for matrix B\n",
    "    B_cols = {}\n",
    "    for j in range(B.shape[1]):\n",
    "        B_cols[j] = set(B.indices[B.indptr[j]:B.indptr[j+1]])\n",
    "\n",
    "    # The product of the two matrices\n",
    "    for i in range(A.shape[0]):\n",
    "        for j in range(B.shape[1]):\n",
    "            # The product of A[i,:] and B[:,j]\n",
    "            C_ij = sum([A[i,k] * B[k,j] for k in A_ptrs[i].intersection(B_cols[j])])\n",
    "            if C_ij != 0:\n",
    "                C_data.append(C_ij)\n",
    "                C_indices.append(j)\n",
    "        C_indptr.append(len(C_data))\n",
    "\n",
    "    # The resulting matrix in CSR format\n",
    "    return csr_matrix((C_data, C_indices, C_indptr), shape=(A.shape[0], B.shape[1]))\n"
   ]
  },
  {
   "cell_type": "markdown",
   "id": "f7be6ffc",
   "metadata": {},
   "source": [
    "Testing the function"
   ]
  },
  {
   "cell_type": "code",
   "execution_count": 40,
   "id": "df38cfa7",
   "metadata": {},
   "outputs": [],
   "source": [
    "a = csr_matrix([[7,0,0],[14,0,0],[21,0,0]])\n",
    "b = csr_matrix([[5,5,0],[7,0,7],[0,9,9]])"
   ]
  },
  {
   "cell_type": "code",
   "execution_count": 41,
   "id": "05e8c2bb",
   "metadata": {},
   "outputs": [
    {
     "name": "stdout",
     "output_type": "stream",
     "text": [
      "[[ 35  35   0]\n",
      " [ 70  70   0]\n",
      " [105 105   0]]\n"
     ]
    }
   ],
   "source": [
    "print(mat_mul_csr(a, b).toarray())\n"
   ]
  },
  {
   "cell_type": "code",
   "execution_count": null,
   "id": "6e74e55c",
   "metadata": {},
   "outputs": [],
   "source": []
  },
  {
   "cell_type": "markdown",
   "id": "9592a90b",
   "metadata": {},
   "source": [
    "implement a function `solve_lin_sys` that takes a matrix `A` in `csr` format and a vector `b` as a numpy array and solves the system `Ax = b`."
   ]
  },
  {
   "cell_type": "code",
   "execution_count": 46,
   "id": "00edeb4c",
   "metadata": {},
   "outputs": [],
   "source": [
    "import numpy as np\n",
    "from scipy.sparse import csr_matrix\n",
    "from scipy.linalg import qr\n",
    "\n",
    "def solve_lin_sys(A_csr, b):\n",
    "    # Perform QR decomposition of A\n",
    "    n = A_csr.shape[0]\n",
    "    Q, R = qr(A_csr.toarray())\n",
    "\n",
    "    # R*x = Q.T*b\n",
    "    y = np.dot(Q.T, b)\n",
    "    x = np.zeros(n)\n",
    "    for i in range(n-1, -1, -1):\n",
    "        x[i] = (y[i] - np.dot(R[i, i+1:], x[i+1:])) / (R[i, i])\n",
    "\n",
    "    return x"
   ]
  },
  {
   "cell_type": "markdown",
   "id": "e6d00697",
   "metadata": {},
   "source": [
    "Testing the function"
   ]
  },
  {
   "cell_type": "code",
   "execution_count": 58,
   "id": "27b4be8b",
   "metadata": {
    "scrolled": true
   },
   "outputs": [
    {
     "name": "stdout",
     "output_type": "stream",
     "text": [
      "[  7. -33.  24.]\n"
     ]
    }
   ],
   "source": [
    "A = csr_matrix([[7, 0, -2], [5, 1, 0], [-3, 0, 1]])\n",
    "b = np.array([1, 2, 3])\n",
    "\n",
    "\n",
    "print(solve_lin_sys(A, b))"
   ]
  },
  {
   "cell_type": "code",
   "execution_count": 59,
   "id": "c96a1668",
   "metadata": {},
   "outputs": [
    {
     "data": {
      "text/plain": [
       "array([  7., -33.,  24.])"
      ]
     },
     "execution_count": 59,
     "metadata": {},
     "output_type": "execute_result"
    }
   ],
   "source": [
    "np.linalg.solve(A.toarray(), b)"
   ]
  }
 ],
 "metadata": {
  "kernelspec": {
   "display_name": "Python 3 (ipykernel)",
   "language": "python",
   "name": "python3"
  },
  "language_info": {
   "codemirror_mode": {
    "name": "ipython",
    "version": 3
   },
   "file_extension": ".py",
   "mimetype": "text/x-python",
   "name": "python",
   "nbconvert_exporter": "python",
   "pygments_lexer": "ipython3",
   "version": "3.9.12"
  }
 },
 "nbformat": 4,
 "nbformat_minor": 5
}
